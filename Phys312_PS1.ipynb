{
  "nbformat": 4,
  "nbformat_minor": 0,
  "metadata": {
    "colab": {
      "name": "Phys312_PS1.ipynb",
      "provenance": [],
      "collapsed_sections": [],
      "authorship_tag": "ABX9TyNTEDMpzdP5g2bPU3q82KEl",
      "include_colab_link": true
    },
    "kernelspec": {
      "name": "python3",
      "display_name": "Python 3"
    }
  },
  "cells": [
    {
      "cell_type": "markdown",
      "metadata": {
        "id": "view-in-github",
        "colab_type": "text"
      },
      "source": [
        "<a href=\"https://colab.research.google.com/github/tunahanyalcin/Phys312-PS1/blob/master/Phys312_PS1.ipynb\" target=\"_parent\"><img src=\"https://colab.research.google.com/assets/colab-badge.svg\" alt=\"Open In Colab\"/></a>"
      ]
    },
    {
      "cell_type": "code",
      "metadata": {
        "id": "RcF_MFWzEMsq",
        "colab_type": "code",
        "colab": {
          "base_uri": "https://localhost:8080/",
          "height": 312
        },
        "outputId": "46e2f02e-0fa1-4590-9eeb-ac8fb783f5fd"
      },
      "source": [
        "from sympy import *\n",
        "import numpy as np\n",
        "import matplotlib.pyplot as plt\n",
        "from google.colab import files\n",
        "init_printing()\n",
        "\n",
        "W, m_a, m_b = symbols('W m_a m_b')\n",
        "\n",
        "#We assumed m_a = 1 and m_b = 0.5 and by definition,\n",
        "T_1 = Matrix([[2-(W*W), -1], [1,0]])\n",
        "T_2 = Matrix([[2-(W*W)/2, -1], [1,0]])\n",
        "T = [[T_1], [T_2]]\n",
        "\n",
        "  \n",
        "#In the PS we stated that T_n = T_(n-2).T_(n-1)\n",
        "T_3 = T_1.multiply(T_2)\n",
        "T_4 = T_2.multiply(T_3)\n",
        "T_5 = T_3.multiply(T_4)\n",
        "\n",
        "#To get the trace of T2;\n",
        "A2 = T_2.row(0).col(0)\n",
        "B2 = T_2.row(1).col(1)\n",
        "trT2 = A2 + B2 \n",
        "\n",
        "#trace T3\n",
        "A3 = T_3.row(0).col(0)\n",
        "B3 = T_3.row(1).col(1)\n",
        "trT3 = A3 + B3 \n",
        "\n",
        "A4 = T_4.row(0).col(0)\n",
        "B4 = T_4.row(1).col(1)\n",
        "trT4 = A4 + B4\n",
        "\n",
        "A5 = T_5.row(0).col(0)\n",
        "B5 = T_5.row(1).col(1)\n",
        "trT5 = A5 + B5\n",
        "\n",
        "#print(\"For n=2\")\n",
        "#pprint(solve_univariate_inequality(abs(trT2[0]) < 2, W))\n",
        "#print(\"For n=3\")\n",
        "#pprint(solve_univariate_inequality(abs(trT3[0]) < 2, W))\n",
        "#print(\"For n=4\")\n",
        "#print(solve_univariate_inequality(abs(trT4[0]) < 2, W))\n",
        "print(\"For n=5\")\n",
        "#print(solve_univariate_inequality(abs(trT5[0]) < 2, W))\n",
        "\n",
        "\n",
        "\n",
        "x2_1 = np.linspace(2,2,num=10)\n",
        "y2_1 = np.linspace(0,(2*(np.sqrt(2))),num=10)\n",
        "\n",
        "x2_2 = np.linspace(2,2,num=10)\n",
        "y2_2 = np.linspace((-2)*(np.sqrt(2)),0,num=10)\n",
        "\n",
        "x3_1 = np.linspace(3,3,num=10)\n",
        "\n",
        "y3_1 = np.linspace(0,(np.sqrt(2)),num=10)\n",
        "y3_2 = np.linspace(2,np.sqrt(6),num=10)\n",
        "y3_3 = np.linspace(-(np.sqrt(2)),0,num=10)\n",
        "y3_4 = np.linspace(-(np.sqrt(6)),-2,num=10)\n",
        "\n",
        "x4_1 = np.linspace(4,4,num=10)\n",
        "y4_1 = np.linspace(-2,-(np.sqrt(2)), num=10)\n",
        "y4_2 = np.linspace(0,(np.sqrt((-2)*np.sqrt(2) + 4)), num=10)\n",
        "y4_3 = np.linspace(np.sqrt(6),np.sqrt(2*np.sqrt(2) + 4), num=10)\n",
        "y4_4 = np.linspace(0,-(np.sqrt((-2)*np.sqrt(2) + 4)), num=10)\n",
        "y4_5 = np.linspace(np.sqrt(2), 2, num=10)\n",
        "y4_6 = np.linspace(-(np.sqrt(6)), -(np.sqrt((2)*np.sqrt(2) + 4)), num=10)\n",
        "\n",
        "\n",
        "plt.plot(x2_1,y2_1, color=\"blue\")\n",
        "plt.plot(x2_2,y2_2, color=\"blue\")\n",
        "\n",
        "plt.plot(x3_1,y3_1, color=\"green\")\n",
        "plt.plot(x3_1,y3_2, color=\"green\")\n",
        "plt.plot(x3_1,y3_3, color=\"green\")\n",
        "plt.plot(x3_1,y3_4, color=\"green\")\n",
        "\n",
        "plt.plot(x4_1, y4_1, color=\"red\")\n",
        "plt.plot(x4_1, y4_2, color=\"red\")\n",
        "plt.plot(x4_1, y4_3, color=\"red\")\n",
        "plt.plot(x4_1, y4_4, color=\"red\")\n",
        "plt.plot(x4_1, y4_5, color=\"red\")\n",
        "plt.plot(x4_1, y4_6, color=\"red\")\n",
        "\n",
        "plt.title(\"W vs n\")\n",
        "plt.xlabel(\"n\")\n",
        "plt.ylabel(\"W\")\n",
        "plt.savefig(\"W_vs_n.png\")\n",
        "files.download(\"W_vs_n.png\")\n",
        "\n",
        "plt.show()\n",
        "\n",
        "\n",
        "\n",
        "\n",
        "\n"
      ],
      "execution_count": null,
      "outputs": [
        {
          "output_type": "stream",
          "text": [
            "For n=5\n"
          ],
          "name": "stdout"
        },
        {
          "output_type": "display_data",
          "data": {
            "image/png": "[encoded data removed]",
            "text/plain": [
              "<Figure size 432x288 with 1 Axes>"
            ]
          },
          "metadata": {
            "tags": [],
            "needs_background": "light"
          }
        }
      ]
    },
    {
      "cell_type": "markdown",
      "metadata": {
        "id": "tpPqBpEVnQOa",
        "colab_type": "text"
      },
      "source": [
        ""
      ]
    }
  ]
}